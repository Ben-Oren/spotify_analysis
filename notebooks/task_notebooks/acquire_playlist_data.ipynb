{
 "cells": [
  {
   "cell_type": "markdown",
   "metadata": {},
   "source": [
    "# Acquire Playlist Data\n",
    "\n",
    "First we'll run through the general process for one track.  Then, we'll run code to run it for all the tracks in a playlist."
   ]
  },
  {
   "cell_type": "markdown",
   "metadata": {},
   "source": [
    "## Imports"
   ]
  },
  {
   "cell_type": "code",
   "execution_count": 11,
   "metadata": {},
   "outputs": [
    {
     "ename": "ModuleNotFoundError",
     "evalue": "No module named 'spotipy'",
     "output_type": "error",
     "traceback": [
      "\u001b[0;31m---------------------------------------------------------------------------\u001b[0m",
      "\u001b[0;31mModuleNotFoundError\u001b[0m                       Traceback (most recent call last)",
      "\u001b[0;32m<ipython-input-11-13e050804b97>\u001b[0m in \u001b[0;36m<module>\u001b[0;34m\u001b[0m\n\u001b[0;32m----> 1\u001b[0;31m \u001b[0;32mimport\u001b[0m \u001b[0mspotipy\u001b[0m\u001b[0;34m\u001b[0m\u001b[0;34m\u001b[0m\u001b[0m\n\u001b[0m\u001b[1;32m      2\u001b[0m \u001b[0;34m\u001b[0m\u001b[0m\n\u001b[1;32m      3\u001b[0m \u001b[0;32mimport\u001b[0m \u001b[0mpandas\u001b[0m \u001b[0;32mas\u001b[0m \u001b[0mpd\u001b[0m\u001b[0;34m\u001b[0m\u001b[0;34m\u001b[0m\u001b[0m\n\u001b[1;32m      4\u001b[0m \u001b[0;32mimport\u001b[0m \u001b[0mnumpy\u001b[0m \u001b[0;32mas\u001b[0m \u001b[0mnp\u001b[0m\u001b[0;34m\u001b[0m\u001b[0;34m\u001b[0m\u001b[0m\n\u001b[1;32m      5\u001b[0m \u001b[0;32mimport\u001b[0m \u001b[0mrequests\u001b[0m\u001b[0;34m\u001b[0m\u001b[0;34m\u001b[0m\u001b[0m\n",
      "\u001b[0;31mModuleNotFoundError\u001b[0m: No module named 'spotipy'"
     ]
    }
   ],
   "source": [
    "import pandas as pd\n",
    "import numpy as np\n",
    "import requests\n",
    "\n",
    "import os\n",
    "import sys\n",
    "\n",
    "module_path = os.path.abspath(os.path.join('../..'))\n",
    "if module_path not in sys.path:\n",
    "    sys.path.append(module_path)\n",
    "    \n",
    "from src import api\n",
    "\n",
    "\n",
    "%load_ext autoreload\n",
    "%autoreload 2"
   ]
  },
  {
   "cell_type": "markdown",
   "metadata": {},
   "source": [
    "## `POST` requests and unpacking response for one track"
   ]
  },
  {
   "cell_type": "code",
   "execution_count": 30,
   "metadata": {},
   "outputs": [],
   "source": [
    "# GET overall data from specific playlist data\n",
    "\n",
    "playlist_response = api.get_playlist_response('https://api.spotify.com/v1/playlists/1oqsGOPQF8TqVtiFdfqkd6')\n",
    "\n",
    "# parse song IDs in RESPONSE from sp. playlist \n",
    "\n",
    "song_ids = api.parse_playlist_song_ids(playlist_response)\n",
    "\n",
    "# GET low-level audio data from first song\n",
    "\n",
    "track_data = api.get_raw_data_track(song_ids[0])\n",
    "\n",
    "track_frame = api.unpack_json(track_data)"
   ]
  },
  {
   "cell_type": "code",
   "execution_count": 31,
   "metadata": {},
   "outputs": [
    {
     "data": {
      "text/html": [
       "<div>\n",
       "<style scoped>\n",
       "    .dataframe tbody tr th:only-of-type {\n",
       "        vertical-align: middle;\n",
       "    }\n",
       "\n",
       "    .dataframe tbody tr th {\n",
       "        vertical-align: top;\n",
       "    }\n",
       "\n",
       "    .dataframe thead th {\n",
       "        text-align: right;\n",
       "    }\n",
       "</style>\n",
       "<table border=\"1\" class=\"dataframe\">\n",
       "  <thead>\n",
       "    <tr style=\"text-align: right;\">\n",
       "      <th></th>\n",
       "      <th>meta_status_code</th>\n",
       "      <th>track_duration</th>\n",
       "      <th>track_end_of_fade_in</th>\n",
       "      <th>track_start_of_fade_out</th>\n",
       "      <th>track_window_seconds</th>\n",
       "      <th>bars0_start</th>\n",
       "      <th>bars0_duration</th>\n",
       "      <th>bars0_confidence</th>\n",
       "      <th>bars1_start</th>\n",
       "      <th>bars1_duration</th>\n",
       "      <th>...</th>\n",
       "      <th>tatums916_confidence</th>\n",
       "      <th>tatums917_start</th>\n",
       "      <th>tatums917_duration</th>\n",
       "      <th>tatums917_confidence</th>\n",
       "      <th>tatums918_start</th>\n",
       "      <th>tatums918_duration</th>\n",
       "      <th>tatums918_confidence</th>\n",
       "      <th>tatums919_start</th>\n",
       "      <th>tatums919_duration</th>\n",
       "      <th>tatums919_confidence</th>\n",
       "    </tr>\n",
       "  </thead>\n",
       "  <tbody>\n",
       "    <tr>\n",
       "      <th>0</th>\n",
       "      <td>0</td>\n",
       "      <td>234.90958</td>\n",
       "      <td>0.0</td>\n",
       "      <td>230.31293</td>\n",
       "      <td>0</td>\n",
       "      <td>1.11229</td>\n",
       "      <td>2.08666</td>\n",
       "      <td>0.646</td>\n",
       "      <td>3.19895</td>\n",
       "      <td>2.04405</td>\n",
       "      <td>...</td>\n",
       "      <td>0.152</td>\n",
       "      <td>231.33934</td>\n",
       "      <td>0.28171</td>\n",
       "      <td>0.152</td>\n",
       "      <td>231.62105</td>\n",
       "      <td>0.28171</td>\n",
       "      <td>0.0</td>\n",
       "      <td>231.90276</td>\n",
       "      <td>0.28171</td>\n",
       "      <td>0.0</td>\n",
       "    </tr>\n",
       "  </tbody>\n",
       "</table>\n",
       "<p>1 rows × 30879 columns</p>\n",
       "</div>"
      ],
      "text/plain": [
       "   meta_status_code  track_duration  track_end_of_fade_in  \\\n",
       "0                 0       234.90958                   0.0   \n",
       "\n",
       "   track_start_of_fade_out  track_window_seconds  bars0_start  bars0_duration  \\\n",
       "0                230.31293                     0      1.11229         2.08666   \n",
       "\n",
       "   bars0_confidence  bars1_start  bars1_duration  ...  tatums916_confidence  \\\n",
       "0             0.646      3.19895         2.04405  ...                 0.152   \n",
       "\n",
       "   tatums917_start  tatums917_duration  tatums917_confidence  tatums918_start  \\\n",
       "0        231.33934             0.28171                 0.152        231.62105   \n",
       "\n",
       "   tatums918_duration  tatums918_confidence  tatums919_start  \\\n",
       "0             0.28171                   0.0        231.90276   \n",
       "\n",
       "   tatums919_duration  tatums919_confidence  \n",
       "0             0.28171                   0.0  \n",
       "\n",
       "[1 rows x 30879 columns]"
      ]
     },
     "execution_count": 31,
     "metadata": {},
     "output_type": "execute_result"
    }
   ],
   "source": [
    "track_frame"
   ]
  },
  {
   "cell_type": "markdown",
   "metadata": {},
   "source": [
    "## All tracks in a playlist"
   ]
  },
  {
   "cell_type": "code",
   "execution_count": 4,
   "metadata": {},
   "outputs": [],
   "source": [
    "playlist_urls = api.get_playlist_urls('bothsidesdoit')"
   ]
  },
  {
   "cell_type": "code",
   "execution_count": 6,
   "metadata": {},
   "outputs": [],
   "source": [
    "playlist_url = playlist_urls[0][1]"
   ]
  },
  {
   "cell_type": "code",
   "execution_count": 8,
   "metadata": {},
   "outputs": [],
   "source": [
    "playlist_raw = api.raw_data_from_playlist(playlist_url)"
   ]
  },
  {
   "cell_type": "code",
   "execution_count": 9,
   "metadata": {},
   "outputs": [],
   "source": [
    "playlist_vendor = api.get_spotify_features(playlist_url)"
   ]
  },
  {
   "cell_type": "code",
   "execution_count": null,
   "metadata": {},
   "outputs": [],
   "source": []
  }
 ],
 "metadata": {
  "kernelspec": {
   "display_name": "Python 3",
   "language": "python",
   "name": "python3"
  },
  "language_info": {
   "codemirror_mode": {
    "name": "ipython",
    "version": 3
   },
   "file_extension": ".py",
   "mimetype": "text/x-python",
   "name": "python",
   "nbconvert_exporter": "python",
   "pygments_lexer": "ipython3",
   "version": "3.7.6"
  }
 },
 "nbformat": 4,
 "nbformat_minor": 4
}
