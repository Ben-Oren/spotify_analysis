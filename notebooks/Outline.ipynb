{
 "cells": [
  {
   "cell_type": "markdown",
   "metadata": {},
   "source": [
    "# Current outline of work\n",
    "\n",
    "anaconda env is `spotify_blog`"
   ]
  },
  {
   "cell_type": "markdown",
   "metadata": {},
   "source": [
    "## Data collection / cleaning"
   ]
  },
  {
   "cell_type": "markdown",
   "metadata": {},
   "source": [
    "- [x] figure out API [notebook](acquire_playlist_data_working.ipynb#acquire_playlist_data_working)\n",
    "<a id='acquire_playlist_data_working'></a>\n",
    "\n",
    "\n",
    "- [x] get spotify features from songs from playlist \n",
    "    - working book [notebook](acquire_playlist_data_working.ipynb#acquire_playlist_data_working)\n",
    "<a id='acquire_playlist_data_working'></a>\n",
    "    - final book \n",
    "\n",
    "\n",
    "- [ ] Raw data will be sparse.  Figure out whether raw data should be \"aggregated\" before PCA or remain sparse.  (According to [wiki](https://en.wikipedia.org/wiki/Sparse_PCA), can use features >> n as a guide to if 'classical PCA' or 'sparse PCA' is necessary.  If features end up >> n, let's aggregate or use sparse PCA; vice versa, raw data + classical.)\n",
    "\n",
    "\n",
    "\n",
    "- [x] get raw data from songs from playlist [notebook](acquire_playlist_data_working.ipynb#acquire_playlist_data_working)\n",
    "<a id='acquire_playlist_data_working'></a>\n",
    "   - [ ] instrumentalize raw data (quick 'n dirty)\n",
    "\n",
    "\n",
    "- [ ] figure out how to get random songs [notebook](acquire_random_data.ipynb#acquire_random_data)\n",
    "<a id='acquire_random_data'></a>\n",
    "    - [ ] get \"choose random musicbrainz -> search on spotify\" procedure working\n",
    "        - [x] get musicbrainz data\n",
    "        - [ ] connect musicbrainz to either sqlite or postgres\n",
    "        - [ ] figure out schema to get track info for searching spotify\n",
    "        - [ ] figure out \"select random track from musicbrainz\" procedure\n",
    "        - [ ] write \"select random track and search for it on spotify\"\n",
    "            - [ ] include \"grab another if search comes up empty\"\n",
    "            - [ ] stretch goal include \"figure out how to deal with covers of same name\"\n",
    "    - [ ] get spotify features from random songs\n",
    "    - [ ] get raw data from random songs\n",
    "        - [ ] instrumentalize raw data (quick 'n dirty)\n",
    "        - [ ] PCA instrumentalized raw data\n",
    "        \n",
    "\n",
    "- [ ] create yml file"
   ]
  },
  {
   "cell_type": "markdown",
   "metadata": {},
   "source": [
    "# Analysis"
   ]
  },
  {
   "cell_type": "markdown",
   "metadata": {},
   "source": [
    "- [ ] Compare descriptive statistics of PCA and spotify features for playlist and random songs [notebook](dim_red_compare.ipynb#dim_red_compare)\n",
    "<a id='dim_red_compare'></a>"
   ]
  },
  {
   "cell_type": "markdown",
   "metadata": {},
   "source": [
    "- [ ] Do KNN of \"is this song in playlist or not\" \n",
    "    - [ ] spotify features\n",
    "        - [ ] tts\n",
    "        - [ ] cross-validation scheme\n",
    "            - [ ] run knn on training folds for multiple k\n",
    "            - [ ] choose best k\n",
    "            - [ ] use K on test fold\n",
    "            - [ ] repeat ten times\n",
    "        - [ ] best K\n",
    "        - [ ] use on test set\n",
    "        - [ ] repeat ten times\n",
    "    - [ ] PCA features\n",
    "        - [ ] tts\n",
    "        - [ ] cross-validation scheme\n",
    "            - [ ] within cross-validation scheme, do PCA on each training fold *without* playlist data.  Idea is that \"spotify variables are based on larger dataset\", don't want to bias towards raw data PCA by having a \"more tailored to that data\" dim red scheme.\n",
    "            - [ ] run knn on training folds for multiple k\n",
    "            - [ ] choose best k\n",
    "            - [ ] use K on test fold\n",
    "            - [ ] repeat ten times\n",
    "        - [ ] best K\n",
    "        - [ ] use on test set\n",
    "        - [ ] repeat ten times"
   ]
  },
  {
   "cell_type": "code",
   "execution_count": null,
   "metadata": {},
   "outputs": [],
   "source": []
  }
 ],
 "metadata": {
  "kernelspec": {
   "display_name": "Python 3",
   "language": "python",
   "name": "python3"
  },
  "language_info": {
   "codemirror_mode": {
    "name": "ipython",
    "version": 3
   },
   "file_extension": ".py",
   "mimetype": "text/x-python",
   "name": "python",
   "nbconvert_exporter": "python",
   "pygments_lexer": "ipython3",
   "version": "3.7.6"
  }
 },
 "nbformat": 4,
 "nbformat_minor": 4
}
