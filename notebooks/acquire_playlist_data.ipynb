{
 "cells": [
  {
   "cell_type": "markdown",
   "metadata": {},
   "source": [
    "link for outline\n",
    "<a id='acquire_playlist_data'></a>"
   ]
  },
  {
   "cell_type": "markdown",
   "metadata": {},
   "source": [
    "# Imports"
   ]
  },
  {
   "cell_type": "code",
   "execution_count": 178,
   "metadata": {},
   "outputs": [
    {
     "name": "stdout",
     "output_type": "stream",
     "text": [
      "The autoreload extension is already loaded. To reload it, use:\n",
      "  %reload_ext autoreload\n"
     ]
    }
   ],
   "source": [
    "import pandas as pd\n",
    "import numpy as np\n",
    "import requests\n",
    "\n",
    "import os\n",
    "import sys\n",
    "\n",
    "module_path = os.path.abspath(os.path.join('..'))\n",
    "if module_path not in sys.path:\n",
    "    sys.path.append(module_path)\n",
    "    \n",
    "from functions import api\n",
    "\n",
    "\n",
    "%load_ext autoreload\n",
    "%autoreload 2"
   ]
  },
  {
   "cell_type": "markdown",
   "metadata": {},
   "source": [
    "# What are we doing?"
   ]
  },
  {
   "cell_type": "markdown",
   "metadata": {},
   "source": [
    "## Data pull stuff\n",
    "- Get list of playlist urls for specific user to use in API endpoint\n",
    "- Get songs off a specific playlist and store as a list\n",
    "- Look up spotify data for songs in specific playlist and store them\n",
    "- Figure out what raw data to use\n",
    "- Download raw data for songs in specific playlist\n",
    "- Operationalize raw data further"
   ]
  },
  {
   "cell_type": "markdown",
   "metadata": {},
   "source": [
    "### Get user profile + playlist"
   ]
  },
  {
   "cell_type": "markdown",
   "metadata": {},
   "source": [
    "#### Format POST requests (details in spotify_scratchpad.ipynb)"
   ]
  },
  {
   "cell_type": "code",
   "execution_count": 3,
   "metadata": {},
   "outputs": [],
   "source": [
    "CLIENT_ID = '1c2e33a8bebd41fbbb8a1ecf0e8c4273'\n",
    "CLIENT_SECRET = '4964098dcc7b41f99c4178e6403645c1'\n",
    "\n",
    "AUTH_URL = 'https://accounts.spotify.com/api/token'\n",
    "\n",
    "# POST\n",
    "\n",
    "auth_response = requests.post(AUTH_URL, {\n",
    "    'grant_type' : 'client_credentials', \n",
    "    'client_id' : CLIENT_ID,\n",
    "    'client_secret' : CLIENT_SECRET,   \n",
    "})\n",
    "\n",
    "# convert response to json\n",
    "auth_response_data = auth_response.json()\n",
    "\n",
    "# save the access token\n",
    "access_token = auth_response_data['access_token']"
   ]
  },
  {
   "cell_type": "markdown",
   "metadata": {},
   "source": [
    "#### Set correct headers for POST request"
   ]
  },
  {
   "cell_type": "code",
   "execution_count": 4,
   "metadata": {},
   "outputs": [],
   "source": [
    "headers = {\n",
    "    'Authorization' : 'Bearer {token}'.format(token=access_token)\n",
    "    \n",
    "}"
   ]
  },
  {
   "cell_type": "markdown",
   "metadata": {},
   "source": [
    "#### Set base URL of all spotify API endpoints"
   ]
  },
  {
   "cell_type": "code",
   "execution_count": 5,
   "metadata": {},
   "outputs": [],
   "source": [
    "BASE_URL = 'https://api.spotify.com/v1/'"
   ]
  },
  {
   "cell_type": "markdown",
   "metadata": {},
   "source": [
    "#### Get profile"
   ]
  },
  {
   "cell_type": "code",
   "execution_count": 6,
   "metadata": {},
   "outputs": [],
   "source": [
    "user_id = 'bothsidesdoit'\n",
    "\n",
    "user_profile = requests.get(BASE_URL + 'users/' + user_id + '/playlists', headers=headers)\n",
    "\n",
    "user_profile = user_profile.json()"
   ]
  },
  {
   "cell_type": "markdown",
   "metadata": {},
   "source": [
    "#### Get playlist url endpoints for api"
   ]
  },
  {
   "cell_type": "code",
   "execution_count": 7,
   "metadata": {},
   "outputs": [],
   "source": [
    "playlist_number = len(user_profile['items'])\n",
    "\n",
    "playlist_urls = [\n",
    "    user_profile['items'][number]['href']\n",
    "    for number \n",
    "    in range(0, playlist_number)\n",
    "]"
   ]
  },
  {
   "cell_type": "code",
   "execution_count": 7,
   "metadata": {},
   "outputs": [
    {
     "data": {
      "text/plain": [
       "['https://api.spotify.com/v1/playlists/1oqsGOPQF8TqVtiFdfqkd6',\n",
       " 'https://api.spotify.com/v1/playlists/2NcJyzjvUlvKQJsScpLOpu',\n",
       " 'https://api.spotify.com/v1/playlists/1Zd7dmudNrNwpfShtK6ywf',\n",
       " 'https://api.spotify.com/v1/playlists/1u6zqNx6dIAwvKHedLl0E2',\n",
       " 'https://api.spotify.com/v1/playlists/5kXBwKZOEVT7PXV6rZuhnV',\n",
       " 'https://api.spotify.com/v1/playlists/4fcUMfrQr7h3j6UpVndlKq']"
      ]
     },
     "execution_count": 7,
     "metadata": {},
     "output_type": "execute_result"
    }
   ],
   "source": [
    "playlist_urls"
   ]
  },
  {
   "cell_type": "markdown",
   "metadata": {},
   "source": [
    "#### Get specific playlist from above url"
   ]
  },
  {
   "cell_type": "code",
   "execution_count": 8,
   "metadata": {},
   "outputs": [],
   "source": [
    "single_playlist_request = requests.get(\n",
    "    playlist_urls[0],\n",
    "    headers=headers\n",
    ")"
   ]
  },
  {
   "cell_type": "code",
   "execution_count": 9,
   "metadata": {},
   "outputs": [],
   "source": [
    "single_playlist_request = single_playlist_request.json()"
   ]
  },
  {
   "cell_type": "markdown",
   "metadata": {},
   "source": [
    "#### Get list of song ids from the playlist request"
   ]
  },
  {
   "cell_type": "code",
   "execution_count": 10,
   "metadata": {},
   "outputs": [],
   "source": [
    "single_playlist_ids = \\\n",
    "[\n",
    "    single_playlist_request\n",
    "        ['tracks']\n",
    "        ['items']\n",
    "        [track]\n",
    "        ['track']\n",
    "        ['id']\n",
    "    for\n",
    "        track\n",
    "    in\n",
    "        range(\n",
    "            0, \n",
    "            len(single_playlist_request['tracks'])\n",
    "        )\n",
    "]"
   ]
  },
  {
   "cell_type": "markdown",
   "metadata": {},
   "source": [
    "#### Get list of spotify features "
   ]
  },
  {
   "cell_type": "code",
   "execution_count": 11,
   "metadata": {},
   "outputs": [],
   "source": [
    "spotify_features_url = BASE_URL + 'audio-features/'\n",
    "\n",
    "single_playlist_spotify_features_data = [\n",
    "    requests.get(\n",
    "        spotify_features_url + track_id,\n",
    "        headers=headers\n",
    "    )\n",
    "    .json()\n",
    "    for\n",
    "        track_id\n",
    "    in\n",
    "        single_playlist_ids\n",
    "]"
   ]
  },
  {
   "cell_type": "markdown",
   "metadata": {},
   "source": [
    "#### Got the data!  Turning the above into a single function\n",
    "#### input playlist url -> ouput data"
   ]
  },
  {
   "cell_type": "code",
   "execution_count": 9,
   "metadata": {},
   "outputs": [],
   "source": [
    "def get_playlist_response(playlist_url):\n",
    "    '''\n",
    "    GET response for given playlist url from spotify api \n",
    "    \n",
    "    input:\n",
    "        playlist_url \n",
    "            - spotify API url for given playlist\n",
    "            - string\n",
    "        \n",
    "    output:\n",
    "        json of playlist_url RESPONSE from spotify api\n",
    "    '''\n",
    "    return requests.get(\n",
    "        playlist_url,\n",
    "        headers=headers\n",
    "    ).json()\n",
    "    \n",
    "\n",
    "def parse_playlist_song_ids(playlist_url_response):\n",
    "    '''\n",
    "    parse playlist url RESPONSE for unique track IDs of songs in playlist \n",
    "    \n",
    "    input:\n",
    "        playlist_url_response\n",
    "            - RESPONSE from spotify API for url for given playlist\n",
    "            - json\n",
    "        \n",
    "    output:\n",
    "        list of strings of unique track IDs \n",
    "    '''\n",
    "    \n",
    "    return [\n",
    "    single_playlist_request\n",
    "        ['tracks']\n",
    "        ['items']\n",
    "        [track]\n",
    "        ['track']\n",
    "        ['id']\n",
    "    for\n",
    "        track\n",
    "    in\n",
    "        range(\n",
    "            0, \n",
    "            len(playlist_url_response['tracks'])\n",
    "        )\n",
    "    ]\n",
    "\n",
    "def get_spotify_features_from_trackid(track_ids):\n",
    "    '''\n",
    "    GET response of spotify features for given list of track ids\n",
    "    \n",
    "    input:\n",
    "        list of track ids\n",
    "            - track id elements of list are strings\n",
    "        \n",
    "    output:\n",
    "        df of spotify features for given track list \n",
    "    '''\n",
    "    BASE_URL = 'https://api.spotify.com/v1/'\n",
    "    \n",
    "    spotify_features_url = BASE_URL + 'audio-features/'\n",
    "\n",
    "    data = [\n",
    "        requests.get(\n",
    "            spotify_features_url + track_id,\n",
    "            headers=headers\n",
    "        )\n",
    "        .json()\n",
    "        for\n",
    "            track_id\n",
    "        in\n",
    "            track_ids\n",
    "    ]\n",
    "    \n",
    "    return pd.DataFrame(data)\n",
    "\n",
    "def get_spotify_features(playlist_url):\n",
    "    '''\n",
    "    gather spotify features for each track in given playlist url\n",
    "    \n",
    "    input:\n",
    "        playlist_url \n",
    "            - spotify API url for given playlist\n",
    "            - string\n",
    "        \n",
    "    output:\n",
    "        df of spotify features for that playlist\n",
    "    '''\n",
    "    \n",
    "    playlist_response = get_playlist_response(\n",
    "        playlist_url\n",
    "    )\n",
    "    \n",
    "    playlist_track_ids = parse_playlist_song_ids(\n",
    "        playlist_response\n",
    "    )\n",
    "    \n",
    "    spotify_features = get_spotify_features_from_trackid(\n",
    "        playlist_track_ids\n",
    "    )\n",
    "    \n",
    "    return spotify_features\n",
    "\n",
    "    \n",
    "    "
   ]
  },
  {
   "cell_type": "markdown",
   "metadata": {},
   "source": [
    "### Figure out what raw data to use\n",
    "\n",
    "Goal is to be relatively quick 'n dirty but still provide info"
   ]
  },
  {
   "cell_type": "code",
   "execution_count": 179,
   "metadata": {},
   "outputs": [],
   "source": [
    "playlist_response = api.get_playlist_response('https://api.spotify.com/v1/playlists/1oqsGOPQF8TqVtiFdfqkd6')"
   ]
  },
  {
   "cell_type": "code",
   "execution_count": 181,
   "metadata": {},
   "outputs": [
    {
     "data": {
      "text/plain": [
       "{'error': {'status': 401, 'message': 'The access token expired'}}"
      ]
     },
     "execution_count": 181,
     "metadata": {},
     "output_type": "execute_result"
    }
   ],
   "source": [
    "playlist_response"
   ]
  },
  {
   "cell_type": "code",
   "execution_count": 180,
   "metadata": {},
   "outputs": [
    {
     "ename": "KeyError",
     "evalue": "'tracks'",
     "output_type": "error",
     "traceback": [
      "\u001b[0;31m---------------------------------------------------------------------------\u001b[0m",
      "\u001b[0;31mKeyError\u001b[0m                                  Traceback (most recent call last)",
      "\u001b[0;32m<ipython-input-180-3e9c1e1a6baf>\u001b[0m in \u001b[0;36m<module>\u001b[0;34m\u001b[0m\n\u001b[0;32m----> 1\u001b[0;31m \u001b[0msong_ids\u001b[0m \u001b[0;34m=\u001b[0m \u001b[0mapi\u001b[0m\u001b[0;34m.\u001b[0m\u001b[0mparse_playlist_song_ids\u001b[0m\u001b[0;34m(\u001b[0m\u001b[0mplaylist_response\u001b[0m\u001b[0;34m)\u001b[0m\u001b[0;34m\u001b[0m\u001b[0;34m\u001b[0m\u001b[0m\n\u001b[0m",
      "\u001b[0;32m~/Desktop/Code/Misc./spotify_analysis/functions/api.py\u001b[0m in \u001b[0;36mparse_playlist_song_ids\u001b[0;34m(playlist_url_response)\u001b[0m\n\u001b[1;32m     94\u001b[0m         range(\n\u001b[1;32m     95\u001b[0m             \u001b[0;36m0\u001b[0m\u001b[0;34m,\u001b[0m\u001b[0;34m\u001b[0m\u001b[0;34m\u001b[0m\u001b[0m\n\u001b[0;32m---> 96\u001b[0;31m             \u001b[0mlen\u001b[0m\u001b[0;34m(\u001b[0m\u001b[0mplaylist_url_response\u001b[0m\u001b[0;34m[\u001b[0m\u001b[0;34m'tracks'\u001b[0m\u001b[0;34m]\u001b[0m\u001b[0;34m)\u001b[0m\u001b[0;34m\u001b[0m\u001b[0;34m\u001b[0m\u001b[0m\n\u001b[0m\u001b[1;32m     97\u001b[0m         )\n\u001b[1;32m     98\u001b[0m     ]\n",
      "\u001b[0;31mKeyError\u001b[0m: 'tracks'"
     ]
    }
   ],
   "source": [
    "song_ids = api.parse_playlist_song_ids(playlist_response)"
   ]
  },
  {
   "cell_type": "code",
   "execution_count": 13,
   "metadata": {},
   "outputs": [],
   "source": [
    "def get_track_raw(song_id):\n",
    "    '''\n",
    "    GET the low-level features of a single track through API call\n",
    "    \n",
    "    input:\n",
    "        track_id - unique track ID in spotify api db\n",
    "        str\n",
    "        \n",
    "    output:\n",
    "        df of result of API call: low-level variables of single track\n",
    "    '''\n",
    "    \n",
    "    data = requests.get(\n",
    "    BASE_URL + 'audio-analysis/' + '6y0igZArWVi6Iz0rj35c1Y',\n",
    "    headers=headers\n",
    "    ) \\\n",
    "    .json()\n",
    "    \n",
    "    return = pd.DataFrame(data)"
   ]
  },
  {
   "cell_type": "code",
   "execution_count": 14,
   "metadata": {},
   "outputs": [],
   "source": [
    "track_data = api.get_raw_data_track(song_ids[0])"
   ]
  },
  {
   "cell_type": "code",
   "execution_count": 176,
   "metadata": {},
   "outputs": [],
   "source": [
    "track_dictionary = {\n",
    "    'meta': ['status_code'],\n",
    "    'track': [\n",
    "        'duration', 'end_of_fade_in',\n",
    "        'start_of_fade_out', 'window_seconds'\n",
    "    ],\n",
    "    'bars': 'all',\n",
    "    'beats': 'all',\n",
    "    'sections': 'all',\n",
    "    'segments': 'all', \n",
    "    'tatums': 'all'\n",
    "}\n",
    "\n",
    "def unpack_selected_json(track_raw_json, track_raw_json_key, cols):\n",
    "    '''\n",
    "    unpack the nested dictionaries within specific key of track's low-level audio analysis data into df\n",
    "\n",
    "    input:\n",
    "        track_raw_json - JSON results from track audio analysis POST request\n",
    "        json\n",
    "        \n",
    "        track_raw_json_key - specific key to unpack\n",
    "        str\n",
    "        \n",
    "        cols - list of strings of columns to unpack eg ['key', 'tempo']\n",
    "        \n",
    "    output:\n",
    "        df with one row (the track) and unpacked columns\n",
    "    '''\n",
    "    \n",
    "    #individual data_groups are eg `section`, `beats` etc\n",
    "    data_group = track_raw_json[track_raw_json_key]\n",
    "    \n",
    "    \n",
    "    #syntax is eg\n",
    "    # for every section in datagroup\n",
    "    #    for every provided column\n",
    "    #        create new dict entry section(int)_column:datagroup[section][column]\n",
    "    unpacked_dict = {\n",
    "        \n",
    "        #create dict entry of eg `section10_tempo: '6.7'`\n",
    "        '{}{}_{}'.format(track_raw_json_key, count, col):data_group[count][col] \n",
    "        \n",
    "        #for every unit in the subgroup of data\n",
    "        for count, _ in enumerate(data_group)\n",
    "        \n",
    "        #for every selected column in that unit\n",
    "        for col in cols\n",
    "    }\n",
    "    \n",
    "    #`pitch` and `timbre` in each `segment` are 12-dim vectors, need to unpack them\n",
    "    #or else they won't fit onto one row of subsequent df\n",
    "    \n",
    "    key_list = list(unpacked_dict.keys())\n",
    "    \n",
    "    for key in key_list:\n",
    "        update_dict = {}\n",
    "        if 'pitch' in key:\n",
    "            for count, item in enumerate(unpacked_dict[key]):\n",
    "                update_dict.update({key+str(count):item})\n",
    "            unpacked_dict.update(update_dict)\n",
    "            del unpacked_dict[key]    \n",
    "        if 'timbre' in key:\n",
    "            for count, item in enumerate(unpacked_dict[key]):\n",
    "                update_dict.update({key+str(count):item})\n",
    "            unpacked_dict.update(update_dict)\n",
    "            del unpacked_dict[key]  \n",
    "    \n",
    "    \n",
    "    #index[0] to keep all the data on one row\n",
    "    frame = pd.DataFrame(\n",
    "        unpacked_dict, \n",
    "        index=[0]\n",
    "    )\n",
    "    \n",
    "    return frame\n",
    "    \n",
    "\n",
    "def unpack_json(track_raw_json, columns_dictionary):\n",
    "    '''\n",
    "    unpack the nested dictionaries from a result of a POST request for a specific track's low-level audio analysis data\n",
    "\n",
    "    input:\n",
    "        track_raw_json - JSON results from track audio analysis POST request\n",
    "        json\n",
    "        \n",
    "        columns_dictionary - keys are subgroups of data eg 'beats', items are either:\n",
    "            'all' (str): flag to unpack all columns in subunit \n",
    "            list (list): list of strings of columns in subunit to unpack\n",
    "        \n",
    "    output:\n",
    "        df with one row (the track) and unpacked columns\n",
    "    '''\n",
    "    \n",
    "    frame_list = []\n",
    "    \n",
    "    for subgroup in columns_dictionary.keys():\n",
    "        cols = columns_dictionary[subgroup]\n",
    "        \n",
    "        #subgroups with deeper lists unpack with unpack_selected_json function above\n",
    "        if cols == 'all':\n",
    "            \n",
    "            cols = list(\n",
    "                track_raw_json[subgroup][0].keys()\n",
    "            )\n",
    "        \n",
    "            frame = unpack_selected_json(track_raw_json, subgroup, cols)\n",
    "        \n",
    "            frame_list.append(frame)            \n",
    "        \n",
    "        \n",
    "        \n",
    "        #subgroups with just key value pairs are unpacked here with similar structure\n",
    "        #but w/o that additional nested list\n",
    "        else:\n",
    "            for col in cols:\n",
    "                frame = pd.DataFrame({\n",
    "                    '{}_{}'.format(subgroup, col):track_raw_json[subgroup][col]\n",
    "                    },\n",
    "                    index=[0]\n",
    "                )\n",
    "\n",
    "                frame_list.append(frame)\n",
    "\n",
    "    return frame_list"
   ]
  }
 ],
 "metadata": {
  "kernelspec": {
   "display_name": "Python 3",
   "language": "python",
   "name": "python3"
  },
  "language_info": {
   "codemirror_mode": {
    "name": "ipython",
    "version": 3
   },
   "file_extension": ".py",
   "mimetype": "text/x-python",
   "name": "python",
   "nbconvert_exporter": "python",
   "pygments_lexer": "ipython3",
   "version": "3.7.6"
  }
 },
 "nbformat": 4,
 "nbformat_minor": 4
}
