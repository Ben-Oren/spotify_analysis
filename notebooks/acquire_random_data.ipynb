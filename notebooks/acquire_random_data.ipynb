{
 "cells": [
  {
   "cell_type": "markdown",
   "metadata": {},
   "source": [
    "link for outline\n",
    "<a id='acquire_random_data'></a>"
   ]
  },
  {
   "cell_type": "markdown",
   "metadata": {},
   "source": [
    "# What are we trying to do"
   ]
  },
  {
   "cell_type": "markdown",
   "metadata": {},
   "source": [
    "Acquire data for random songs from spotify API to use in comparison to songs from specific playlist"
   ]
  },
  {
   "cell_type": "markdown",
   "metadata": {},
   "source": [
    "### Issues\n",
    "\n",
    "- According to [here](https://perryjanssen.medium.com/getting-random-tracks-using-the-spotify-api-61889b0c0c27), API returns more \"famous\" artists/tracks at top of searches.  Luckily, can use an off-set to counteract\n",
    "\n",
    "- Also according to above link, API results are also different according to \"market\" in which IP number posting `REQUEST` is located, which is co-extensive but not congruous with \"country\". So, should also randomize market. "
   ]
  },
  {
   "cell_type": "markdown",
   "metadata": {},
   "source": [
    "### External resources\n",
    "\n",
    "Here's something someone made with the spotipy package that:\n",
    "\n",
    "- randomly chooses a letter\n",
    "\n",
    "- randomly chooses whether it's at the start, beginning, or end of a word\n",
    "\n",
    "- randomly chooses whether it's in a song title, album, etc (set of choices here is selectable)\n",
    "\n",
    "https://github.com/michimalek/spotipy-random\n",
    "\n",
    "In order to get around the fact that spotify api returns \"most popular\" songs first, an offset is available to select \"further down the popularity list\".  \n",
    "\n",
    "So, we have to randomize that offset."
   ]
  },
  {
   "cell_type": "code",
   "execution_count": 27,
   "metadata": {},
   "outputs": [
    {
     "name": "stdout",
     "output_type": "stream",
     "text": [
      "The autoreload extension is already loaded. To reload it, use:\n",
      "  %reload_ext autoreload\n"
     ]
    }
   ],
   "source": [
    "from spotipy import Spotify\n",
    "from spotipy_random import get_random\n",
    "\n",
    "from spotipy.oauth2 import SpotifyClientCredentials\n",
    "\n",
    "from time import sleep\n",
    "\n",
    "import random\n",
    "\n",
    "import os\n",
    "import sys\n",
    "\n",
    "module_path = os.path.abspath(os.path.join('..'))\n",
    "if module_path not in sys.path:\n",
    "    sys.path.append(module_path)\n",
    "    \n",
    "from src import api\n",
    "\n",
    "\n",
    "%load_ext autoreload\n",
    "%autoreload 2"
   ]
  },
  {
   "cell_type": "code",
   "execution_count": 28,
   "metadata": {},
   "outputs": [],
   "source": [
    "auth_manager = SpotifyClientCredentials(\n",
    "    client_id=\"1c2e33a8bebd41fbbb8a1ecf0e8c4273\",\n",
    "    client_secret=\"4964098dcc7b41f99c4178e6403645c1\"\n",
    ")\n",
    "\n",
    "sp = Spotify(auth_manager=auth_manager)\n",
    "\n",
    "# spotify_client = Spotify(auth_manager=SpotifyClientCredentials(\n",
    "#                                  client_id=\"1c2e33a8bebd41fbbb8a1ecf0e8c4273\",\n",
    "#                                  client_secret=\"4964098dcc7b41f99c4178e6403645c1\")\n",
    "#                         )\n",
    "\n",
    "random_track_json: str = get_random(spotify=sp, type=\"track\", year=2020, offset_max=1000)"
   ]
  },
  {
   "cell_type": "code",
   "execution_count": 31,
   "metadata": {},
   "outputs": [
    {
     "data": {
      "text/plain": [
       "'46AX8pgh331m7C7q2t9Jra'"
      ]
     },
     "execution_count": 31,
     "metadata": {},
     "output_type": "execute_result"
    }
   ],
   "source": [
    "random_track_json['id']"
   ]
  },
  {
   "cell_type": "raw",
   "metadata": {},
   "source": []
  },
  {
   "cell_type": "markdown",
   "metadata": {},
   "source": [
    "## Have it working, now what?\n",
    "\n",
    "- set random number for offset max\n",
    "- unparse track id\n",
    "- get track raw data\n",
    "- store\n",
    "- pause\n",
    "- get track spotify features\n",
    "- get track metadata\n",
    "- store"
   ]
  },
  {
   "cell_type": "code",
   "execution_count": 33,
   "metadata": {},
   "outputs": [
    {
     "data": {
      "text/plain": [
       "273"
      ]
     },
     "execution_count": 33,
     "metadata": {},
     "output_type": "execute_result"
    }
   ],
   "source": [
    "random.randint(0,1000)\n"
   ]
  },
  {
   "cell_type": "code",
   "execution_count": 36,
   "metadata": {},
   "outputs": [
    {
     "name": "stdout",
     "output_type": "stream",
     "text": [
      "0\n"
     ]
    },
    {
     "ename": "KeyError",
     "evalue": "'track'",
     "output_type": "error",
     "traceback": [
      "\u001b[0;31m---------------------------------------------------------------------------\u001b[0m",
      "\u001b[0;31mKeyError\u001b[0m                                  Traceback (most recent call last)",
      "\u001b[0;32m/var/folders/8v/b8stx8l97z3d28nqzhz8sr380000gn/T/ipykernel_85962/716693955.py\u001b[0m in \u001b[0;36m<module>\u001b[0;34m\u001b[0m\n\u001b[1;32m     41\u001b[0m         \u001b[0;34m'release_precision'\u001b[0m\u001b[0;34m:\u001b[0m \u001b[0mbase\u001b[0m\u001b[0;34m[\u001b[0m\u001b[0;34m'album'\u001b[0m\u001b[0;34m]\u001b[0m\u001b[0;34m[\u001b[0m\u001b[0;34m'release_date_precision'\u001b[0m\u001b[0;34m]\u001b[0m\u001b[0;34m,\u001b[0m\u001b[0;34m\u001b[0m\u001b[0;34m\u001b[0m\u001b[0m\n\u001b[1;32m     42\u001b[0m         \u001b[0;34m'track_name'\u001b[0m\u001b[0;34m:\u001b[0m \u001b[0mbase\u001b[0m\u001b[0;34m[\u001b[0m\u001b[0;34m'name'\u001b[0m\u001b[0;34m]\u001b[0m\u001b[0;34m,\u001b[0m\u001b[0;34m\u001b[0m\u001b[0;34m\u001b[0m\u001b[0m\n\u001b[0;32m---> 43\u001b[0;31m         \u001b[0;34m'track_flag'\u001b[0m\u001b[0;34m:\u001b[0m \u001b[0mbase\u001b[0m\u001b[0;34m[\u001b[0m\u001b[0;34m'track'\u001b[0m\u001b[0;34m]\u001b[0m\u001b[0;34m,\u001b[0m\u001b[0;34m\u001b[0m\u001b[0;34m\u001b[0m\u001b[0m\n\u001b[0m\u001b[1;32m     44\u001b[0m         \u001b[0;34m'track_type'\u001b[0m\u001b[0;34m:\u001b[0m \u001b[0mbase\u001b[0m\u001b[0;34m[\u001b[0m\u001b[0;34m'type'\u001b[0m\u001b[0;34m]\u001b[0m\u001b[0;34m,\u001b[0m\u001b[0;34m\u001b[0m\u001b[0;34m\u001b[0m\u001b[0m\n\u001b[1;32m     45\u001b[0m         \u001b[0;34m'episode'\u001b[0m\u001b[0;34m:\u001b[0m \u001b[0mbase\u001b[0m\u001b[0;34m[\u001b[0m\u001b[0;34m'episode'\u001b[0m\u001b[0;34m]\u001b[0m\u001b[0;34m\u001b[0m\u001b[0;34m\u001b[0m\u001b[0m\n",
      "\u001b[0;31mKeyError\u001b[0m: 'track'"
     ]
    }
   ],
   "source": [
    "raw_frames = []\n",
    "spotify_frames = []\n",
    "metadata_frames = []\n",
    "\n",
    "while len(spotify_frames)<1000:\n",
    "    if len(spotify_frames)%50==0:\n",
    "        print(len(spotify_frames))\n",
    "    \n",
    "    random_max_offset = random.randint(random_min_offset,1000)\n",
    "    \n",
    "    random_track_json: str = get_random(\n",
    "        spotify=sp, \n",
    "        type=\"track\", \n",
    "        year=2020,\n",
    "        offset_min=random_min_offset,\n",
    "        offset_max=random_max_offset\n",
    "    )\n",
    "        \n",
    "    random_track_id = random_track_json['id']\n",
    "    \n",
    "    random_track_data = api.get_raw_data_track(\n",
    "        random_track_id\n",
    "    )\n",
    "   \n",
    "    random_track_raw_frame = api.unpack_json(\n",
    "        random_track_data,\n",
    "        random_track_id\n",
    "    )\n",
    "    raw_frames.append(\n",
    "        random_track_raw_frame\n",
    "    )\n",
    "    \n",
    "    base = random_track_json\n",
    "    random_track_meta_dict = {\n",
    "        'id': base['id'],\n",
    "        'popularity': base['popularity'],\n",
    "        'artist': base['artists'][0]['name'],\n",
    "        'artist_type': base['artists'][0]['type'],\n",
    "        'album_type': base['album']['album_type'],\n",
    "        'album_release_date': base['album']['release_date'],\n",
    "        'release_precision': base['album']['release_date_precision'],\n",
    "        'track_name': base['name'],\n",
    "        'track_flag': base['track'],\n",
    "        'track_type': base['type'],\n",
    "        'episode': base['episode']\n",
    "    }\n",
    "    random_track_meta_frame = pd.DataFrame(\n",
    "        random_track_meta_dict,\n",
    "        index[0]\n",
    "    )\n",
    "    \n",
    "    metadata_frames.append(\n",
    "        randome_track_meta_frame\n",
    "    )\n",
    "    \n",
    "    \n",
    "    random_track_sp_features = \\\n",
    "        api.get_spotify_features_from_trackid(\n",
    "            [random_track_id]\n",
    "    )\n",
    "    \n",
    "    spotify_frames.append(\n",
    "        random_track_sp_features\n",
    "    )\n",
    "    \n",
    "    \n",
    "    \n",
    "    \n",
    "    sleep(.1)\n",
    "    \n",
    "    "
   ]
  },
  {
   "cell_type": "code",
   "execution_count": 37,
   "metadata": {},
   "outputs": [
    {
     "data": {
      "text/plain": [
       "dict_keys(['album', 'artists', 'available_markets', 'disc_number', 'duration_ms', 'explicit', 'external_ids', 'external_urls', 'href', 'id', 'is_local', 'name', 'popularity', 'preview_url', 'track_number', 'type', 'uri'])"
      ]
     },
     "execution_count": 37,
     "metadata": {},
     "output_type": "execute_result"
    }
   ],
   "source": [
    "random_track_json.keys()"
   ]
  },
  {
   "cell_type": "code",
   "execution_count": null,
   "metadata": {},
   "outputs": [],
   "source": []
  }
 ],
 "metadata": {
  "kernelspec": {
   "display_name": "spotify_blog",
   "language": "python",
   "name": "spotify_blog"
  },
  "language_info": {
   "codemirror_mode": {
    "name": "ipython",
    "version": 3
   },
   "file_extension": ".py",
   "mimetype": "text/x-python",
   "name": "python",
   "nbconvert_exporter": "python",
   "pygments_lexer": "ipython3",
   "version": "3.7.13"
  }
 },
 "nbformat": 4,
 "nbformat_minor": 4
}
