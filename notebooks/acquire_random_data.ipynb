{
 "cells": [
  {
   "cell_type": "markdown",
   "metadata": {},
   "source": [
    "link for outline\n",
    "<a id='acquire_random_data'></a>"
   ]
  },
  {
   "cell_type": "markdown",
   "metadata": {},
   "source": [
    "# What are we trying to do"
   ]
  },
  {
   "cell_type": "markdown",
   "metadata": {},
   "source": [
    "Acquire data for random songs from spotify API to use in comparison to songs from specific playlist"
   ]
  },
  {
   "cell_type": "markdown",
   "metadata": {},
   "source": [
    "### Issues\n",
    "\n",
    "- According to [here](https://perryjanssen.medium.com/getting-random-tracks-using-the-spotify-api-61889b0c0c27), API returns more \"famous\" artists/tracks at top of searches.  Luckily, can use an off-set to counteract\n",
    "\n",
    "- Also according to above link, API results are also different according to \"market\" in which IP number posting `REQUEST` is located, which is co-extensive but not congruous with \"country\". So, should also randomize market. "
   ]
  },
  {
   "cell_type": "markdown",
   "metadata": {},
   "source": [
    "### External resources\n",
    "\n",
    "Here's something someone made with the spotipy package that:\n",
    "\n",
    "- randomly chooses a letter\n",
    "\n",
    "- randomly chooses whether it's at the start, beginning, or end of a word\n",
    "\n",
    "- randomly chooses whether it's in a song title, album, etc (set of choices here is selectable)\n",
    "\n",
    "https://github.com/michimalek/spotipy-random"
   ]
  },
  {
   "cell_type": "code",
   "execution_count": 9,
   "metadata": {},
   "outputs": [],
   "source": [
    "from spotipy import Spotify\n",
    "from spotipy_random import get_random\n",
    "\n",
    "from spotipy.oauth2 import SpotifyClientCredentials"
   ]
  },
  {
   "cell_type": "code",
   "execution_count": 15,
   "metadata": {},
   "outputs": [],
   "source": [
    "auth_manager = SpotifyClientCredentials(\n",
    "    client_id=\"1c2e33a8bebd41fbbb8a1ecf0e8c4273\",\n",
    "    client_secret=\"4964098dcc7b41f99c4178e6403645c1\"\n",
    ")\n",
    "\n",
    "sp = Spotify(auth_manager=auth_manager)\n",
    "\n",
    "# spotify_client = Spotify(auth_manager=SpotifyClientCredentials(\n",
    "#                                  client_id=\"1c2e33a8bebd41fbbb8a1ecf0e8c4273\",\n",
    "#                                  client_secret=\"4964098dcc7b41f99c4178e6403645c1\")\n",
    "#                         )\n",
    "\n",
    "random_pop_song_json: str = get_random(spotify=sp, type=\"track\", genre=\"pop\")"
   ]
  },
  {
   "cell_type": "code",
   "execution_count": null,
   "metadata": {},
   "outputs": [],
   "source": []
  }
 ],
 "metadata": {
  "kernelspec": {
   "display_name": "spotify_blog",
   "language": "python",
   "name": "spotify_blog"
  },
  "language_info": {
   "codemirror_mode": {
    "name": "ipython",
    "version": 3
   },
   "file_extension": ".py",
   "mimetype": "text/x-python",
   "name": "python",
   "nbconvert_exporter": "python",
   "pygments_lexer": "ipython3",
   "version": "3.7.13"
  }
 },
 "nbformat": 4,
 "nbformat_minor": 4
}
