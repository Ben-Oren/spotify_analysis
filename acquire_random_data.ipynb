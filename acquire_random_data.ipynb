{
 "cells": [
  {
   "cell_type": "markdown",
   "metadata": {},
   "source": [
    "link for outline\n",
    "<a id='acquire_random_data'></a>"
   ]
  },
  {
   "cell_type": "markdown",
   "metadata": {},
   "source": [
    "# What are we trying to do"
   ]
  },
  {
   "cell_type": "markdown",
   "metadata": {},
   "source": [
    "Acquire data for random songs from spotify API to use in comparison to songs from specific playlist"
   ]
  },
  {
   "cell_type": "markdown",
   "metadata": {},
   "source": [
    "### Issues\n",
    "\n",
    "- According to [here](https://perryjanssen.medium.com/getting-random-tracks-using-the-spotify-api-61889b0c0c27), API returns more \"famous\" artists/tracks at top of searches.  Luckily, can use an off-set to counteract\n",
    "\n",
    "- Also according to above link, API results are also different according to \"market\" in which IP number posting `REQUEST` is located, which is co-extensive but not congruous with \"country\". So, should also randomize market. "
   ]
  },
  {
   "cell_type": "markdown",
   "metadata": {},
   "source": [
    "### External resources\n",
    "\n",
    "Here's something someone made with the spotipy package that:\n",
    "\n",
    "- randomly chooses a letter\n",
    "\n",
    "- randomly chooses whether it's at the start, beginning, or end of a word\n",
    "\n",
    "- randomly chooses whether it's in a song title, album, etc (set of choices here is selectable)\n",
    "\n",
    "https://github.com/michimalek/spotipy-random"
   ]
  },
  {
   "cell_type": "code",
   "execution_count": null,
   "metadata": {},
   "outputs": [],
   "source": []
  }
 ],
 "metadata": {
  "kernelspec": {
   "display_name": "Python 3",
   "language": "python",
   "name": "python3"
  },
  "language_info": {
   "codemirror_mode": {
    "name": "ipython",
    "version": 3
   },
   "file_extension": ".py",
   "mimetype": "text/x-python",
   "name": "python",
   "nbconvert_exporter": "python",
   "pygments_lexer": "ipython3",
   "version": "3.7.6"
  }
 },
 "nbformat": 4,
 "nbformat_minor": 4
}
